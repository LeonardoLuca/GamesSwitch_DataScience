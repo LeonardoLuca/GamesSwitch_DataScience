{
  "nbformat": 4,
  "nbformat_minor": 0,
  "metadata": {
    "colab": {
      "provenance": [],
      "collapsed_sections": [
        "RXtmGAtT47up",
        "sbJzzEuVH4Zm",
        "G1Mfl24sZzgD"
      ],
      "include_colab_link": true
    },
    "kernelspec": {
      "name": "python3",
      "display_name": "Python 3"
    },
    "language_info": {
      "name": "python"
    }
  },
  "cells": [
    {
      "cell_type": "markdown",
      "metadata": {
        "id": "view-in-github",
        "colab_type": "text"
      },
      "source": [
        "<a href=\"https://colab.research.google.com/github/LeonardoLuca/GamesSwitch_DataScience/blob/main/GamesSwitch_DataScience.ipynb\" target=\"_parent\"><img src=\"https://colab.research.google.com/assets/colab-badge.svg\" alt=\"Open In Colab\"/></a>"
      ]
    },
    {
      "cell_type": "markdown",
      "source": [
        "# Abrindo dataset"
      ],
      "metadata": {
        "id": "TR6T2ocD42V5"
      }
    },
    {
      "cell_type": "code",
      "execution_count": null,
      "metadata": {
        "id": "CSsOg6yYmQ4E"
      },
      "outputs": [],
      "source": [
        "# Instalando imports\n",
        "import pandas as pd\n",
        "import numpy as np\n",
        "import io\n",
        "import re\n",
        "import matplotlib.pyplot as plt\n",
        "import seaborn as sns\n",
        "from sklearn.model_selection import train_test_split\n",
        "from sklearn.linear_model import LinearRegression\n",
        "from sklearn import metrics\n",
        "from numpy import log10"
      ]
    },
    {
      "cell_type": "code",
      "source": [
        "# Abrindo dataset\n",
        "\n",
        "with open('/content/sample_data/dekudeals_games.csv', 'r') as f:\n",
        "       conteudo = f.read()\n",
        "       print(conteudo)"
      ],
      "metadata": {
        "colab": {
          "base_uri": "https://localhost:8080/"
        },
        "id": "JtivdpXjpTes",
        "outputId": "2d76d649-5410-403d-9ada-202f9366f77d"
      },
      "execution_count": null,
      "outputs": [
        {
          "output_type": "stream",
          "name": "stdout",
          "text": [
            "﻿Game|MSRP|Release date|Genre|Number of players|Developer|Publisher|Download size|Metacritic Score|Metacritic User Score|OpenCritic|How Long To Beat|Play modes|Languages|Platforms\n",
            "Super Mario Odyssey|R$349,00|October 27, 2017|Platformer, Action|Offline: 1 - 2; Online: 1|Nintendo|Nintendo|5.609 GB|97|8.9|97|Main Story: 12½ hours; Main + Extra: 27 hours; Completionist: 62 hours|N/A|N/A|N/A\n",
            "The Legend of Zelda: Breath of the Wild|R$349,00|March  3, 2017|Adventure, Action, Role-Playing|Offline: 1|Nintendo|Nintendo|14.416 GB|97|8.9|96|Main Story: 50½ hours; Main + Extra: 98½ hours; Completionist: 193½ hours|N/A|N/A|N/A\n",
            "The Legend of Zelda: Tears of the Kingdom|R$399,00|May 12, 2023|Adventure, Action, Role-Playing|Offline: 1|Nintendo|Nintendo|16.474 GB|96|8.8|95|Main Story: 59 hours; Main + Extra: 117 hours; Completionist: 248½ hours|N/A|N/A|N/A\n",
            "The House in Fata Morgana: Dreams of the Revenants Edition||||Offline: 1|Novectacle|Limited Run Games|3.215 GB|96|7.0||Main Story: 30 hours; Main + Extra: 36 hours; Completionist: 51 hours|N/A|N/A|\n",
            "Portal 2|||Action, Puzzle, Platformer|Offline: 1 - 2; Local Wireless: 2; Online: 2|Valve|Valve|7.344 GB|95|8.9||Main Story: 8½ hours; Main + Extra: 13½ hours; Completionist: 22½ hours|N/A|N/A|Xbox One, Steam\n",
            "Portal: Companion Collection|R$63,99|June 28, 2022|Action, Adventure, Puzzle|Offline: 1 - 2||Valve|10.02 GB|95|8.6|92|Solo: 11½ hours; Co-op: 8 hours|N/A|N/A|N/A\n",
            "Vampire Survivors: Ode to Castlevania|R$9,95|October 31, 2024|Action, Action, Role-Playing|Offline: 1 - 4|Poncle|poncle|270 MB|95|7.9|93|Main Story: 18 hours; Main + Extra: 25 hours; Completionist: 35½ hours|||\"Nintendo Switch, PlayStation 5, PlayStation 4, Xbox Series X|S, Xbox One, Steam\"\n",
            "Metroid Prime Remastered|R$239,00|February  8, 2023|Adventure, Action, First-Person, Platformer|Offline: 1||Nintendo|6.77 GB|94|8.8|94|Main Story: 13 hours; Main + Extra: 15 hours; Completionist: 15½ hours|N/A|N/A|N/A\n",
            "The Elder Scrolls V: Skyrim|R$299,00||Role-Playing, Action|Offline: 1|Bethesda Game Studios|Bethesda|12.886 GB|94|8.6|85|Main Story: 33½ hours; Main + Extra: 109 hours; Completionist: 232 hours|N/A|N/A|Nintendo Switch, Steam\n",
            "Tetris Effect: Connected|R$203,95||Puzzle, Multiplayer, Music, Arcade|Offline: 1 - 4; Online: 2 - 8|Monstars, Resonair and Stage Games|Enhance|4.046 GB|94|7.6|89|Main Story: 3½ hours; Main + Extra: 8½ hours; Completionist: 58 hours|N/A|N/A|\"Nintendo Switch, PlayStation 5, Xbox Series X|S, Xbox One, Steam\"\n",
            "Braid, Anniversary Edition|R$74,95||Puzzle, Platformer, Adventure|Offline: 1|Thekla|Thekla|2.151 GB|94|7.6|89|Main Story: 4½ hours; Main + Extra: 6 hours; Completionist: 10 hours|N/A|N/A|\"Nintendo Switch, PlayStation 5, PlayStation 4, Xbox Series X|S, Xbox One, Steam\"\n",
            "Cobalt Core|R$59,99|November  8, 2023|Strategy, Puzzle, Role-Playing, Board Game|Offline: 1|Rocket Rat Games|Brace Yourself Games|448 MB|94|7.3|89|Main Story: 19 hours; Main + Extra: 30 hours; Completionist: 31 hours|N/A|N/A|Nintendo Switch, Steam\n",
            "The Witcher 3: Wild Hunt|R$179,99||Role-Playing, Action, Adventure|Offline: 1|CD PROJEKT RED|CD PROJEKT|24.319 GB|93|9.1|93|Main Story: 51½ hours; Main + Extra: 103½ hours; Completionist: 174 hours|N/A|N/A|\"Nintendo Switch, PlayStation 5, PlayStation 4, Xbox Series X|S, Xbox One, Steam\"\n",
            "Ori and the Will of the Wisps|R$168,00||Action, Adventure, Platformer|Offline: 1|Moon Studios|iam8bit|4.339 GB|93|8.9|90|Main Story: 12 hours; Main + Extra: 15½ hours; Completionist: 18 hours|N/A|N/A|\"Nintendo Switch, Xbox Series X|S, Xbox One, Steam\"\n",
            "Super Smash Bros. Ultimate|R$349,00|December  7, 2018|Action, Fighting, Multiplayer|Offline: 1 - 8; Local Wireless: 2 - 8; Online: 2 - 4|Nintendo, Sora, BANDAI NAMCO Studios|Nintendo|17.308 GB|93|8.7|92|Main Story: 24 hours; Main + Extra: 42 hours; Completionist: 75½ hours|N/A|N/A|N/A\n",
            "Hades|R$92,46||Action, Adventure, Role-Playing|Offline: 1|Supergiant Games|Supergiant Games|5.771 GB|93|8.6|94|Main Story: 23 hours; Main + Extra: 48½ hours; Completionist: 95½ hours|N/A|N/A|\"Nintendo Switch, PlayStation 5, PlayStation 4, Xbox Series X|S, Xbox One, Steam\"\n",
            "Undertale|R$79,00||Role-Playing|Offline: 1|8-4|8-4|220 MB|93|8.6|93|Main Story: 7 hours; Main + Extra: 11 hours; Completionist: 20½ hours|N/A|N/A|Nintendo Switch, PlayStation 4, Xbox One, Steam\n",
            "The Case of the Golden Idol|R$94,90||Puzzle|Offline: 1|Color Gray Games|Playstack|455 MB|93|7.9|88|Main Story: 6 hours; Main + Extra: 7½ hours; Completionist: 8 hours|N/A|N/A|\"Nintendo Switch, PlayStation 5, Xbox Series X|S, Xbox One, Steam\"\n",
            "The Witcher 3: Wild Hunt – Blood and Wine|R$129,95||Role-Playing|Offline: 1|CD PROJEKT RED|CD PROJEKT|5.396 GB|92|9.3|92|Main Story: 15 hours; Main + Extra: 28½ hours; Completionist: 40½ hours|N/A||\"Nintendo Switch, PlayStation 5, PlayStation 4, Xbox Series X|S, Xbox One, Steam\"\n",
            "Super Mario Bros. Wonder|R$349,00|October 20, 2023|Platformer, Action|Offline: 1 - 4; Online: 1 - 4|Nintendo|Nintendo|3.572 GB|92|9.0|91|Main Story: 10 hours; Main + Extra: 13½ hours; Completionist: 20 hours|N/A|N/A|N/A\n",
            "Bayonetta 2|R$398,00|December 22, 2021|Action||PlatinumGames|Nintendo|21.33 GB|90|8.7|89|Main Story: 9 hours; Main + Extra: 12½ hours; Completionist: 44½ hours|N/A|N/A|N/A\n",
            "Celeste|R$59,99||Action, Platformer|Offline: 1|Matt Makes Games|Maddy Makes Games|1.541 GB|92|8.7|92|Main Story: 8½ hours; Main + Extra: 14½ hours; Completionist: 38½ hours|N/A|N/A|Nintendo Switch, PlayStation 4, Xbox One, Steam\n",
            "Dead Cells: The Queen and the Sea|R$19,95||Action, Action|Offline: 1|Evil Empire|Motion Twin|3 MB|92|8.7|93|Main Story: 3 hours; Completionist: 3 hours|||Nintendo Switch, PlayStation 5, PlayStation 4, Xbox One, Steam\n",
            "Mario Kart 8 Deluxe|R$349,00|April 28, 2017|Racing, Multiplayer|Offline: 1 - 4; Local Wireless: 2 - 8; Online: 2 - 12|Nintendo|Nintendo|11.253 GB|92|8.6|92|Main Story: 6 hours; Main + Extra: 22½ hours; Completionist: 54 hours|N/A|N/A|N/A\n",
            "Thronefall|R$41,99|October 11, 2024|Strategy, Action, Fighting, Arcade|Offline: 1|GrizzlyGames|Grizzly Games|792 MB|92|8.2||Main Story: 7½ hours; Main + Extra: 14 hours; Completionist: 26½ hours|N/A|N/A|Nintendo Switch, Steam\n",
            "A Monster's Expedition|R$124,99||Puzzle, Adventure|Offline: 1|Draknek, Friends|Draknek|714 MB|92|8.1|85|Main Story: 9 hours; Main + Extra: 16 hours; Completionist: 33 hours|N/A|N/A|Nintendo Switch, PlayStation 5, PlayStation 4, Steam\n",
            "Spelunky 2|R$101,95||Platformer, Multiplayer, Action|Offline: 1 - 4; Online: 2 - 4|BlitWorks|Mossmouth|708 MB|92|7.9|88|Main Story: 26½ hours; Main + Extra: 75½ hours; Completionist: 170½ hours|N/A|N/A|\"Nintendo Switch, PlayStation 5, PlayStation 4, Xbox Series X|S, Xbox One, Steam\"\n",
            "Castlevania Dominus Collection|R$133,90|August 27, 2024|Arcade, Platformer, Role-Playing|Offline: 1|KONAMI|KONAMI|1.198 GB|92|7.5|90|Solo: 34½ hours|N/A|N/A|\"Nintendo Switch, PlayStation 5, Xbox Series X|S, Steam\"\n",
            "Street Fighter 6|R$191,00||Action, Fighting|Offline: 1 - 2; Local Wireless: 2; Online: 2 - 16|CAPCOM|CAPCOM|48.282 GB|92|7.5|92|Main Story: 17½ hours; Main + Extra: 33 hours; Completionist: 72½ hours|N/A|N/A|\"Nintendo Switch 2, PlayStation 5, PlayStation 4, Xbox Series X|S, Steam\"\n",
            "DRAGON QUEST XI S: Echoes of an Elusive Age – Definitive Edition|R$199,50||Role-Playing, Adventure|Offline: 1|SQUARE ENIX|SQUARE ENIX|13.974 GB|91|8.8|92|Main Story: 57½ hours; Main + Extra: 89½ hours; Completionist: 130½ hours|N/A|N/A|Nintendo Switch, PlayStation 4, Xbox One, Steam\n",
            "Split Fiction|R$249,00||Action, Adventure, Platformer, Puzzle|Offline: 2; Local Wireless: 2; Online: 2|Hazelight Studios|Electronic Arts|69.23 GB|91|8.8|90|Main Story: 13 hours; Main + Extra: 14 hours; Completionist: 15½ hours|N/A|N/A|\"Nintendo Switch 2, PlayStation 5, Xbox Series X|S, Steam\"\n",
            "Batman: Arkham City|||Action|Offline: 1|Rocksteady Studios|WB Games|12.36 GB|91|8.8|||N/A|N/A|Nintendo Switch, PlayStation 4, Xbox One\n",
            "\n"
          ]
        }
      ]
    },
    {
      "cell_type": "markdown",
      "source": [
        "\n",
        "# Definição de Tipos"
      ],
      "metadata": {
        "id": "RXtmGAtT47up"
      }
    },
    {
      "cell_type": "code",
      "source": [
        "#Transformando em Dataframe\n",
        "import pandas as pd\n",
        "\n",
        "conteudoDataFrame = pd.read_csv('/content/sample_data/dekudeals_games.csv', sep = '|')\n",
        "print(conteudoDataFrame)"
      ],
      "metadata": {
        "colab": {
          "base_uri": "https://localhost:8080/"
        },
        "id": "Wo2leob4wHn8",
        "outputId": "4130d231-3e72-4418-d8c4-8afe536f45f6",
        "collapsed": true
      },
      "execution_count": null,
      "outputs": [
        {
          "output_type": "stream",
          "name": "stdout",
          "text": [
            "                                                 Game      MSRP  \\\n",
            "0                                 Super Mario Odyssey  R$349,00   \n",
            "1             The Legend of Zelda: Breath of the Wild  R$349,00   \n",
            "2           The Legend of Zelda: Tears of the Kingdom  R$399,00   \n",
            "3   The House in Fata Morgana: Dreams of the Reven...       NaN   \n",
            "4                                            Portal 2       NaN   \n",
            "5                        Portal: Companion Collection   R$63,99   \n",
            "6               Vampire Survivors: Ode to Castlevania    R$9,95   \n",
            "7                            Metroid Prime Remastered  R$239,00   \n",
            "8                         The Elder Scrolls V: Skyrim  R$299,00   \n",
            "9                            Tetris Effect: Connected  R$203,95   \n",
            "10                         Braid, Anniversary Edition   R$74,95   \n",
            "11                                        Cobalt Core   R$59,99   \n",
            "12                           The Witcher 3: Wild Hunt  R$179,99   \n",
            "13                      Ori and the Will of the Wisps  R$168,00   \n",
            "14                         Super Smash Bros. Ultimate  R$349,00   \n",
            "15                                              Hades   R$92,46   \n",
            "16                                          Undertale   R$79,00   \n",
            "17                        The Case of the Golden Idol   R$94,90   \n",
            "18          The Witcher 3: Wild Hunt – Blood and Wine  R$129,95   \n",
            "19                           Super Mario Bros. Wonder  R$349,00   \n",
            "20                                        Bayonetta 2  R$398,00   \n",
            "21                                            Celeste   R$59,99   \n",
            "22                  Dead Cells: The Queen and the Sea   R$19,95   \n",
            "23                                Mario Kart 8 Deluxe  R$349,00   \n",
            "24                                         Thronefall   R$41,99   \n",
            "25                             A Monster's Expedition  R$124,99   \n",
            "26                                         Spelunky 2  R$101,95   \n",
            "27                     Castlevania Dominus Collection  R$133,90   \n",
            "28                                   Street Fighter 6  R$191,00   \n",
            "29  DRAGON QUEST XI S: Echoes of an Elusive Age – ...  R$199,50   \n",
            "30                                      Split Fiction  R$249,00   \n",
            "31                                Batman: Arkham City       NaN   \n",
            "\n",
            "         Release date                                        Genre  \\\n",
            "0    October 27, 2017                           Platformer, Action   \n",
            "1      March  3, 2017              Adventure, Action, Role-Playing   \n",
            "2        May 12, 2023              Adventure, Action, Role-Playing   \n",
            "3                 NaN                                          NaN   \n",
            "4                 NaN                   Action, Puzzle, Platformer   \n",
            "5       June 28, 2022                    Action, Adventure, Puzzle   \n",
            "6    October 31, 2024                 Action, Action, Role-Playing   \n",
            "7   February  8, 2023  Adventure, Action, First-Person, Platformer   \n",
            "8                 NaN                         Role-Playing, Action   \n",
            "9                 NaN           Puzzle, Multiplayer, Music, Arcade   \n",
            "10                NaN                Puzzle, Platformer, Adventure   \n",
            "11  November  8, 2023   Strategy, Puzzle, Role-Playing, Board Game   \n",
            "12                NaN              Role-Playing, Action, Adventure   \n",
            "13                NaN                Action, Adventure, Platformer   \n",
            "14  December  7, 2018                Action, Fighting, Multiplayer   \n",
            "15                NaN              Action, Adventure, Role-Playing   \n",
            "16                NaN                                 Role-Playing   \n",
            "17                NaN                                       Puzzle   \n",
            "18                NaN                                 Role-Playing   \n",
            "19   October 20, 2023                           Platformer, Action   \n",
            "20  December 22, 2021                                       Action   \n",
            "21                NaN                           Action, Platformer   \n",
            "22                NaN                               Action, Action   \n",
            "23     April 28, 2017                          Racing, Multiplayer   \n",
            "24   October 11, 2024           Strategy, Action, Fighting, Arcade   \n",
            "25                NaN                            Puzzle, Adventure   \n",
            "26                NaN              Platformer, Multiplayer, Action   \n",
            "27    August 27, 2024             Arcade, Platformer, Role-Playing   \n",
            "28                NaN                             Action, Fighting   \n",
            "29                NaN                      Role-Playing, Adventure   \n",
            "30                NaN        Action, Adventure, Platformer, Puzzle   \n",
            "31                NaN                                       Action   \n",
            "\n",
            "                                    Number of players  \\\n",
            "0                           Offline: 1 - 2; Online: 1   \n",
            "1                                          Offline: 1   \n",
            "2                                          Offline: 1   \n",
            "3                                          Offline: 1   \n",
            "4        Offline: 1 - 2; Local Wireless: 2; Online: 2   \n",
            "5                                      Offline: 1 - 2   \n",
            "6                                      Offline: 1 - 4   \n",
            "7                                          Offline: 1   \n",
            "8                                          Offline: 1   \n",
            "9                       Offline: 1 - 4; Online: 2 - 8   \n",
            "10                                         Offline: 1   \n",
            "11                                         Offline: 1   \n",
            "12                                         Offline: 1   \n",
            "13                                         Offline: 1   \n",
            "14  Offline: 1 - 8; Local Wireless: 2 - 8; Online:...   \n",
            "15                                         Offline: 1   \n",
            "16                                         Offline: 1   \n",
            "17                                         Offline: 1   \n",
            "18                                         Offline: 1   \n",
            "19                      Offline: 1 - 4; Online: 1 - 4   \n",
            "20                                                NaN   \n",
            "21                                         Offline: 1   \n",
            "22                                         Offline: 1   \n",
            "23  Offline: 1 - 4; Local Wireless: 2 - 8; Online:...   \n",
            "24                                         Offline: 1   \n",
            "25                                         Offline: 1   \n",
            "26                      Offline: 1 - 4; Online: 2 - 4   \n",
            "27                                         Offline: 1   \n",
            "28  Offline: 1 - 2; Local Wireless: 2; Online: 2 - 16   \n",
            "29                                         Offline: 1   \n",
            "30           Offline: 2; Local Wireless: 2; Online: 2   \n",
            "31                                         Offline: 1   \n",
            "\n",
            "                               Developer             Publisher Download size  \\\n",
            "0                               Nintendo              Nintendo      5.609 GB   \n",
            "1                               Nintendo              Nintendo     14.416 GB   \n",
            "2                               Nintendo              Nintendo     16.474 GB   \n",
            "3                             Novectacle     Limited Run Games      3.215 GB   \n",
            "4                                  Valve                 Valve      7.344 GB   \n",
            "5                                    NaN                 Valve      10.02 GB   \n",
            "6                                 Poncle                poncle        270 MB   \n",
            "7                                    NaN              Nintendo       6.77 GB   \n",
            "8                  Bethesda Game Studios              Bethesda     12.886 GB   \n",
            "9     Monstars, Resonair and Stage Games               Enhance      4.046 GB   \n",
            "10                                Thekla                Thekla      2.151 GB   \n",
            "11                      Rocket Rat Games  Brace Yourself Games        448 MB   \n",
            "12                        CD PROJEKT RED            CD PROJEKT     24.319 GB   \n",
            "13                          Moon Studios               iam8bit      4.339 GB   \n",
            "14  Nintendo, Sora, BANDAI NAMCO Studios              Nintendo     17.308 GB   \n",
            "15                      Supergiant Games      Supergiant Games      5.771 GB   \n",
            "16                                   8-4                   8-4        220 MB   \n",
            "17                      Color Gray Games             Playstack        455 MB   \n",
            "18                        CD PROJEKT RED            CD PROJEKT      5.396 GB   \n",
            "19                              Nintendo              Nintendo      3.572 GB   \n",
            "20                         PlatinumGames              Nintendo      21.33 GB   \n",
            "21                      Matt Makes Games     Maddy Makes Games      1.541 GB   \n",
            "22                           Evil Empire           Motion Twin          3 MB   \n",
            "23                              Nintendo              Nintendo     11.253 GB   \n",
            "24                          GrizzlyGames         Grizzly Games        792 MB   \n",
            "25                      Draknek, Friends               Draknek        714 MB   \n",
            "26                             BlitWorks             Mossmouth        708 MB   \n",
            "27                                KONAMI                KONAMI      1.198 GB   \n",
            "28                                CAPCOM                CAPCOM     48.282 GB   \n",
            "29                           SQUARE ENIX           SQUARE ENIX     13.974 GB   \n",
            "30                     Hazelight Studios       Electronic Arts      69.23 GB   \n",
            "31                    Rocksteady Studios              WB Games      12.36 GB   \n",
            "\n",
            "    Metacritic Score  Metacritic User Score  OpenCritic  \\\n",
            "0                 97                    8.9        97.0   \n",
            "1                 97                    8.9        96.0   \n",
            "2                 96                    8.8        95.0   \n",
            "3                 96                    7.0         NaN   \n",
            "4                 95                    8.9         NaN   \n",
            "5                 95                    8.6        92.0   \n",
            "6                 95                    7.9        93.0   \n",
            "7                 94                    8.8        94.0   \n",
            "8                 94                    8.6        85.0   \n",
            "9                 94                    7.6        89.0   \n",
            "10                94                    7.6        89.0   \n",
            "11                94                    7.3        89.0   \n",
            "12                93                    9.1        93.0   \n",
            "13                93                    8.9        90.0   \n",
            "14                93                    8.7        92.0   \n",
            "15                93                    8.6        94.0   \n",
            "16                93                    8.6        93.0   \n",
            "17                93                    7.9        88.0   \n",
            "18                92                    9.3        92.0   \n",
            "19                92                    9.0        91.0   \n",
            "20                90                    8.7        89.0   \n",
            "21                92                    8.7        92.0   \n",
            "22                92                    8.7        93.0   \n",
            "23                92                    8.6        92.0   \n",
            "24                92                    8.2         NaN   \n",
            "25                92                    8.1        85.0   \n",
            "26                92                    7.9        88.0   \n",
            "27                92                    7.5        90.0   \n",
            "28                92                    7.5        92.0   \n",
            "29                91                    8.8        92.0   \n",
            "30                91                    8.8        90.0   \n",
            "31                91                    8.8         NaN   \n",
            "\n",
            "                                     How Long To Beat  Play modes  Languages  \\\n",
            "0   Main Story: 12½ hours; Main + Extra: 27 hours;...         NaN        NaN   \n",
            "1   Main Story: 50½ hours; Main + Extra: 98½ hours...         NaN        NaN   \n",
            "2   Main Story: 59 hours; Main + Extra: 117 hours;...         NaN        NaN   \n",
            "3   Main Story: 30 hours; Main + Extra: 36 hours; ...         NaN        NaN   \n",
            "4   Main Story: 8½ hours; Main + Extra: 13½ hours;...         NaN        NaN   \n",
            "5                     Solo: 11½ hours; Co-op: 8 hours         NaN        NaN   \n",
            "6   Main Story: 18 hours; Main + Extra: 25 hours; ...         NaN        NaN   \n",
            "7   Main Story: 13 hours; Main + Extra: 15 hours; ...         NaN        NaN   \n",
            "8   Main Story: 33½ hours; Main + Extra: 109 hours...         NaN        NaN   \n",
            "9   Main Story: 3½ hours; Main + Extra: 8½ hours; ...         NaN        NaN   \n",
            "10  Main Story: 4½ hours; Main + Extra: 6 hours; C...         NaN        NaN   \n",
            "11  Main Story: 19 hours; Main + Extra: 30 hours; ...         NaN        NaN   \n",
            "12  Main Story: 51½ hours; Main + Extra: 103½ hour...         NaN        NaN   \n",
            "13  Main Story: 12 hours; Main + Extra: 15½ hours;...         NaN        NaN   \n",
            "14  Main Story: 24 hours; Main + Extra: 42 hours; ...         NaN        NaN   \n",
            "15  Main Story: 23 hours; Main + Extra: 48½ hours;...         NaN        NaN   \n",
            "16  Main Story: 7 hours; Main + Extra: 11 hours; C...         NaN        NaN   \n",
            "17  Main Story: 6 hours; Main + Extra: 7½ hours; C...         NaN        NaN   \n",
            "18  Main Story: 15 hours; Main + Extra: 28½ hours;...         NaN        NaN   \n",
            "19  Main Story: 10 hours; Main + Extra: 13½ hours;...         NaN        NaN   \n",
            "20  Main Story: 9 hours; Main + Extra: 12½ hours; ...         NaN        NaN   \n",
            "21  Main Story: 8½ hours; Main + Extra: 14½ hours;...         NaN        NaN   \n",
            "22        Main Story: 3 hours; Completionist: 3 hours         NaN        NaN   \n",
            "23  Main Story: 6 hours; Main + Extra: 22½ hours; ...         NaN        NaN   \n",
            "24  Main Story: 7½ hours; Main + Extra: 14 hours; ...         NaN        NaN   \n",
            "25  Main Story: 9 hours; Main + Extra: 16 hours; C...         NaN        NaN   \n",
            "26  Main Story: 26½ hours; Main + Extra: 75½ hours...         NaN        NaN   \n",
            "27                                    Solo: 34½ hours         NaN        NaN   \n",
            "28  Main Story: 17½ hours; Main + Extra: 33 hours;...         NaN        NaN   \n",
            "29  Main Story: 57½ hours; Main + Extra: 89½ hours...         NaN        NaN   \n",
            "30  Main Story: 13 hours; Main + Extra: 14 hours; ...         NaN        NaN   \n",
            "31                                                NaN         NaN        NaN   \n",
            "\n",
            "                                            Platforms  \n",
            "0                                                 NaN  \n",
            "1                                                 NaN  \n",
            "2                                                 NaN  \n",
            "3                                                 NaN  \n",
            "4                                     Xbox One, Steam  \n",
            "5                                                 NaN  \n",
            "6   Nintendo Switch, PlayStation 5, PlayStation 4,...  \n",
            "7                                                 NaN  \n",
            "8                              Nintendo Switch, Steam  \n",
            "9   Nintendo Switch, PlayStation 5, Xbox Series X|...  \n",
            "10  Nintendo Switch, PlayStation 5, PlayStation 4,...  \n",
            "11                             Nintendo Switch, Steam  \n",
            "12  Nintendo Switch, PlayStation 5, PlayStation 4,...  \n",
            "13  Nintendo Switch, Xbox Series X|S, Xbox One, Steam  \n",
            "14                                                NaN  \n",
            "15  Nintendo Switch, PlayStation 5, PlayStation 4,...  \n",
            "16    Nintendo Switch, PlayStation 4, Xbox One, Steam  \n",
            "17  Nintendo Switch, PlayStation 5, Xbox Series X|...  \n",
            "18  Nintendo Switch, PlayStation 5, PlayStation 4,...  \n",
            "19                                                NaN  \n",
            "20                                                NaN  \n",
            "21    Nintendo Switch, PlayStation 4, Xbox One, Steam  \n",
            "22  Nintendo Switch, PlayStation 5, PlayStation 4,...  \n",
            "23                                                NaN  \n",
            "24                             Nintendo Switch, Steam  \n",
            "25  Nintendo Switch, PlayStation 5, PlayStation 4,...  \n",
            "26  Nintendo Switch, PlayStation 5, PlayStation 4,...  \n",
            "27  Nintendo Switch, PlayStation 5, Xbox Series X|...  \n",
            "28  Nintendo Switch 2, PlayStation 5, PlayStation ...  \n",
            "29    Nintendo Switch, PlayStation 4, Xbox One, Steam  \n",
            "30  Nintendo Switch 2, PlayStation 5, Xbox Series ...  \n",
            "31           Nintendo Switch, PlayStation 4, Xbox One  \n"
          ]
        }
      ]
    },
    {
      "cell_type": "code",
      "source": [
        "#Definir os tipos das colunas\n",
        "\n",
        "category_cols = [\n",
        "    \"Genre\",\n",
        "    \"Number of players\",\n",
        "    \"Developer\",\n",
        "    \"Publisher\",\n",
        "    \"Platforms\"\n",
        "]\n",
        "\n",
        "conteudoDataFrame[category_cols] = conteudoDataFrame[category_cols].astype(\"category\")\n",
        "\n",
        "# Verificar os tipos\n",
        "print(conteudoDataFrame.dtypes)"
      ],
      "metadata": {
        "colab": {
          "base_uri": "https://localhost:8080/"
        },
        "collapsed": true,
        "id": "vhELfze6Ab1f",
        "outputId": "c09187ce-75e3-406f-f2dd-0e1d4e332d86"
      },
      "execution_count": null,
      "outputs": [
        {
          "output_type": "stream",
          "name": "stdout",
          "text": [
            "Game                       object\n",
            "MSRP                       object\n",
            "Release date               object\n",
            "Genre                    category\n",
            "Number of players        category\n",
            "Developer                category\n",
            "Publisher                category\n",
            "Download size              object\n",
            "Metacritic Score            int64\n",
            "Metacritic User Score     float64\n",
            "OpenCritic                float64\n",
            "How Long To Beat           object\n",
            "Play modes                float64\n",
            "Languages                 float64\n",
            "Platforms                category\n",
            "dtype: object\n"
          ]
        }
      ]
    },
    {
      "cell_type": "code",
      "source": [
        "conteudoDataFrame['Genre'].cat.categories"
      ],
      "metadata": {
        "colab": {
          "base_uri": "https://localhost:8080/"
        },
        "id": "KIZuEhrEIHVX",
        "outputId": "01759fc1-31e8-47ca-8437-d372144bdd1a"
      },
      "execution_count": null,
      "outputs": [
        {
          "output_type": "execute_result",
          "data": {
            "text/plain": [
              "Index(['Action', 'Action, Action', 'Action, Action, Role-Playing',\n",
              "       'Action, Adventure, Platformer',\n",
              "       'Action, Adventure, Platformer, Puzzle', 'Action, Adventure, Puzzle',\n",
              "       'Action, Adventure, Role-Playing', 'Action, Fighting',\n",
              "       'Action, Fighting, Multiplayer', 'Action, Platformer',\n",
              "       'Action, Puzzle, Platformer',\n",
              "       'Adventure, Action, First-Person, Platformer',\n",
              "       'Adventure, Action, Role-Playing', 'Arcade, Platformer, Role-Playing',\n",
              "       'Platformer, Action', 'Platformer, Multiplayer, Action', 'Puzzle',\n",
              "       'Puzzle, Adventure', 'Puzzle, Multiplayer, Music, Arcade',\n",
              "       'Puzzle, Platformer, Adventure', 'Racing, Multiplayer', 'Role-Playing',\n",
              "       'Role-Playing, Action', 'Role-Playing, Action, Adventure',\n",
              "       'Role-Playing, Adventure', 'Strategy, Action, Fighting, Arcade',\n",
              "       'Strategy, Puzzle, Role-Playing, Board Game'],\n",
              "      dtype='object')"
            ]
          },
          "metadata": {},
          "execution_count": 7
        }
      ]
    },
    {
      "cell_type": "markdown",
      "source": [
        "# Tratamento de Dados Ausentes"
      ],
      "metadata": {
        "id": "sbJzzEuVH4Zm"
      }
    },
    {
      "cell_type": "code",
      "source": [
        "conteudoDataFrame.shape"
      ],
      "metadata": {
        "id": "cbec0sGlH6ty",
        "colab": {
          "base_uri": "https://localhost:8080/"
        },
        "outputId": "eab4b59b-c023-4e86-eefa-4e4f606ab137"
      },
      "execution_count": null,
      "outputs": [
        {
          "output_type": "execute_result",
          "data": {
            "text/plain": [
              "(32, 15)"
            ]
          },
          "metadata": {},
          "execution_count": 8
        }
      ]
    },
    {
      "cell_type": "code",
      "source": [
        "print(conteudoDataFrame.isnull().sum())"
      ],
      "metadata": {
        "id": "SF8DR7-iHy9-",
        "colab": {
          "base_uri": "https://localhost:8080/"
        },
        "outputId": "15e36cb4-4ba5-4b99-8d54-bfc5b5a9039e"
      },
      "execution_count": null,
      "outputs": [
        {
          "output_type": "stream",
          "name": "stdout",
          "text": [
            "Game                      0\n",
            "MSRP                      3\n",
            "Release date             19\n",
            "Genre                     1\n",
            "Number of players         1\n",
            "Developer                 2\n",
            "Publisher                 0\n",
            "Download size             0\n",
            "Metacritic Score          0\n",
            "Metacritic User Score     0\n",
            "OpenCritic                4\n",
            "How Long To Beat          1\n",
            "Play modes               32\n",
            "Languages                32\n",
            "Platforms                10\n",
            "dtype: int64\n"
          ]
        }
      ]
    },
    {
      "cell_type": "code",
      "source": [
        "conteudoDataFrameNotNulll = conteudoDataFrame.dropna(thresh=0.7*len(conteudoDataFrame), axis=1)\n",
        "print(conteudoDataFrameNotNulll.isnull().sum())"
      ],
      "metadata": {
        "colab": {
          "base_uri": "https://localhost:8080/"
        },
        "id": "G7nEoYKLYvpu",
        "outputId": "31df5804-1f85-4255-a0c6-7c96f24f19fa"
      },
      "execution_count": null,
      "outputs": [
        {
          "output_type": "stream",
          "name": "stdout",
          "text": [
            "Game                     0\n",
            "MSRP                     3\n",
            "Genre                    1\n",
            "Number of players        1\n",
            "Developer                2\n",
            "Publisher                0\n",
            "Download size            0\n",
            "Metacritic Score         0\n",
            "Metacritic User Score    0\n",
            "OpenCritic               4\n",
            "How Long To Beat         1\n",
            "dtype: int64\n"
          ]
        }
      ]
    },
    {
      "cell_type": "markdown",
      "source": [],
      "metadata": {
        "id": "CfdglsOyZFrA"
      }
    },
    {
      "cell_type": "markdown",
      "source": [
        "# Normalização e Discretização"
      ],
      "metadata": {
        "id": "G1Mfl24sZzgD"
      }
    },
    {
      "cell_type": "code",
      "source": [
        "#Convertendo a coluna MSRP para float\n",
        "\n",
        "df = conteudoDataFrameNotNulll\n",
        "\n",
        "# A única mudança é adicionar .str.replace('.', '', regex=False)\n",
        "df['MSRP'] = pd.to_numeric(\n",
        "    df['MSRP']\n",
        "        .str.replace('R$', '', regex=False)      # 1. Remove o 'R$'\n",
        "        .str.replace('.', '', regex=False)      # 2. IMPORTANTE: Remove o separador de milhar '.'\n",
        "        .str.replace(',', '.', regex=False)      # 3. Troca a vírgula decimal por ponto\n",
        "        .str.strip(),                           # 4. Remove espaços em branco no início/fim\n",
        "    errors='coerce'\n",
        ")\n",
        "\n",
        "# Imprime o resultado para conferir\n",
        "print(\"--- DataFrame Transformado ---\")\n",
        "print(df)\n",
        "print(\"\\nTipo de dados da coluna 'MSRP':\", df['MSRP'].dtype)"
      ],
      "metadata": {
        "colab": {
          "base_uri": "https://localhost:8080/"
        },
        "id": "k99avE2na22X",
        "outputId": "29a64758-dad2-47b1-e9fd-5d3dacd06325"
      },
      "execution_count": null,
      "outputs": [
        {
          "output_type": "stream",
          "name": "stdout",
          "text": [
            "--- DataFrame Transformado ---\n",
            "                                                 Game    MSRP  \\\n",
            "0                                 Super Mario Odyssey  349.00   \n",
            "1             The Legend of Zelda: Breath of the Wild  349.00   \n",
            "2           The Legend of Zelda: Tears of the Kingdom  399.00   \n",
            "3   The House in Fata Morgana: Dreams of the Reven...     NaN   \n",
            "4                                            Portal 2     NaN   \n",
            "5                        Portal: Companion Collection   63.99   \n",
            "6               Vampire Survivors: Ode to Castlevania    9.95   \n",
            "7                            Metroid Prime Remastered  239.00   \n",
            "8                         The Elder Scrolls V: Skyrim  299.00   \n",
            "9                            Tetris Effect: Connected  203.95   \n",
            "10                         Braid, Anniversary Edition   74.95   \n",
            "11                                        Cobalt Core   59.99   \n",
            "12                           The Witcher 3: Wild Hunt  179.99   \n",
            "13                      Ori and the Will of the Wisps  168.00   \n",
            "14                         Super Smash Bros. Ultimate  349.00   \n",
            "15                                              Hades   92.46   \n",
            "16                                          Undertale   79.00   \n",
            "17                        The Case of the Golden Idol   94.90   \n",
            "18          The Witcher 3: Wild Hunt – Blood and Wine  129.95   \n",
            "19                           Super Mario Bros. Wonder  349.00   \n",
            "20                                        Bayonetta 2  398.00   \n",
            "21                                            Celeste   59.99   \n",
            "22                  Dead Cells: The Queen and the Sea   19.95   \n",
            "23                                Mario Kart 8 Deluxe  349.00   \n",
            "24                                         Thronefall   41.99   \n",
            "25                             A Monster's Expedition  124.99   \n",
            "26                                         Spelunky 2  101.95   \n",
            "27                     Castlevania Dominus Collection  133.90   \n",
            "28                                   Street Fighter 6  191.00   \n",
            "29  DRAGON QUEST XI S: Echoes of an Elusive Age – ...  199.50   \n",
            "30                                      Split Fiction  249.00   \n",
            "31                                Batman: Arkham City     NaN   \n",
            "\n",
            "                                          Genre  \\\n",
            "0                            Platformer, Action   \n",
            "1               Adventure, Action, Role-Playing   \n",
            "2               Adventure, Action, Role-Playing   \n",
            "3                                           NaN   \n",
            "4                    Action, Puzzle, Platformer   \n",
            "5                     Action, Adventure, Puzzle   \n",
            "6                  Action, Action, Role-Playing   \n",
            "7   Adventure, Action, First-Person, Platformer   \n",
            "8                          Role-Playing, Action   \n",
            "9            Puzzle, Multiplayer, Music, Arcade   \n",
            "10                Puzzle, Platformer, Adventure   \n",
            "11   Strategy, Puzzle, Role-Playing, Board Game   \n",
            "12              Role-Playing, Action, Adventure   \n",
            "13                Action, Adventure, Platformer   \n",
            "14                Action, Fighting, Multiplayer   \n",
            "15              Action, Adventure, Role-Playing   \n",
            "16                                 Role-Playing   \n",
            "17                                       Puzzle   \n",
            "18                                 Role-Playing   \n",
            "19                           Platformer, Action   \n",
            "20                                       Action   \n",
            "21                           Action, Platformer   \n",
            "22                               Action, Action   \n",
            "23                          Racing, Multiplayer   \n",
            "24           Strategy, Action, Fighting, Arcade   \n",
            "25                            Puzzle, Adventure   \n",
            "26              Platformer, Multiplayer, Action   \n",
            "27             Arcade, Platformer, Role-Playing   \n",
            "28                             Action, Fighting   \n",
            "29                      Role-Playing, Adventure   \n",
            "30        Action, Adventure, Platformer, Puzzle   \n",
            "31                                       Action   \n",
            "\n",
            "                                    Number of players  \\\n",
            "0                           Offline: 1 - 2; Online: 1   \n",
            "1                                          Offline: 1   \n",
            "2                                          Offline: 1   \n",
            "3                                          Offline: 1   \n",
            "4        Offline: 1 - 2; Local Wireless: 2; Online: 2   \n",
            "5                                      Offline: 1 - 2   \n",
            "6                                      Offline: 1 - 4   \n",
            "7                                          Offline: 1   \n",
            "8                                          Offline: 1   \n",
            "9                       Offline: 1 - 4; Online: 2 - 8   \n",
            "10                                         Offline: 1   \n",
            "11                                         Offline: 1   \n",
            "12                                         Offline: 1   \n",
            "13                                         Offline: 1   \n",
            "14  Offline: 1 - 8; Local Wireless: 2 - 8; Online:...   \n",
            "15                                         Offline: 1   \n",
            "16                                         Offline: 1   \n",
            "17                                         Offline: 1   \n",
            "18                                         Offline: 1   \n",
            "19                      Offline: 1 - 4; Online: 1 - 4   \n",
            "20                                                NaN   \n",
            "21                                         Offline: 1   \n",
            "22                                         Offline: 1   \n",
            "23  Offline: 1 - 4; Local Wireless: 2 - 8; Online:...   \n",
            "24                                         Offline: 1   \n",
            "25                                         Offline: 1   \n",
            "26                      Offline: 1 - 4; Online: 2 - 4   \n",
            "27                                         Offline: 1   \n",
            "28  Offline: 1 - 2; Local Wireless: 2; Online: 2 - 16   \n",
            "29                                         Offline: 1   \n",
            "30           Offline: 2; Local Wireless: 2; Online: 2   \n",
            "31                                         Offline: 1   \n",
            "\n",
            "                               Developer             Publisher Download size  \\\n",
            "0                               Nintendo              Nintendo      5.609 GB   \n",
            "1                               Nintendo              Nintendo     14.416 GB   \n",
            "2                               Nintendo              Nintendo     16.474 GB   \n",
            "3                             Novectacle     Limited Run Games      3.215 GB   \n",
            "4                                  Valve                 Valve      7.344 GB   \n",
            "5                                    NaN                 Valve      10.02 GB   \n",
            "6                                 Poncle                poncle        270 MB   \n",
            "7                                    NaN              Nintendo       6.77 GB   \n",
            "8                  Bethesda Game Studios              Bethesda     12.886 GB   \n",
            "9     Monstars, Resonair and Stage Games               Enhance      4.046 GB   \n",
            "10                                Thekla                Thekla      2.151 GB   \n",
            "11                      Rocket Rat Games  Brace Yourself Games        448 MB   \n",
            "12                        CD PROJEKT RED            CD PROJEKT     24.319 GB   \n",
            "13                          Moon Studios               iam8bit      4.339 GB   \n",
            "14  Nintendo, Sora, BANDAI NAMCO Studios              Nintendo     17.308 GB   \n",
            "15                      Supergiant Games      Supergiant Games      5.771 GB   \n",
            "16                                   8-4                   8-4        220 MB   \n",
            "17                      Color Gray Games             Playstack        455 MB   \n",
            "18                        CD PROJEKT RED            CD PROJEKT      5.396 GB   \n",
            "19                              Nintendo              Nintendo      3.572 GB   \n",
            "20                         PlatinumGames              Nintendo      21.33 GB   \n",
            "21                      Matt Makes Games     Maddy Makes Games      1.541 GB   \n",
            "22                           Evil Empire           Motion Twin          3 MB   \n",
            "23                              Nintendo              Nintendo     11.253 GB   \n",
            "24                          GrizzlyGames         Grizzly Games        792 MB   \n",
            "25                      Draknek, Friends               Draknek        714 MB   \n",
            "26                             BlitWorks             Mossmouth        708 MB   \n",
            "27                                KONAMI                KONAMI      1.198 GB   \n",
            "28                                CAPCOM                CAPCOM     48.282 GB   \n",
            "29                           SQUARE ENIX           SQUARE ENIX     13.974 GB   \n",
            "30                     Hazelight Studios       Electronic Arts      69.23 GB   \n",
            "31                    Rocksteady Studios              WB Games      12.36 GB   \n",
            "\n",
            "    Metacritic Score  Metacritic User Score  OpenCritic  \\\n",
            "0                 97                    8.9        97.0   \n",
            "1                 97                    8.9        96.0   \n",
            "2                 96                    8.8        95.0   \n",
            "3                 96                    7.0         NaN   \n",
            "4                 95                    8.9         NaN   \n",
            "5                 95                    8.6        92.0   \n",
            "6                 95                    7.9        93.0   \n",
            "7                 94                    8.8        94.0   \n",
            "8                 94                    8.6        85.0   \n",
            "9                 94                    7.6        89.0   \n",
            "10                94                    7.6        89.0   \n",
            "11                94                    7.3        89.0   \n",
            "12                93                    9.1        93.0   \n",
            "13                93                    8.9        90.0   \n",
            "14                93                    8.7        92.0   \n",
            "15                93                    8.6        94.0   \n",
            "16                93                    8.6        93.0   \n",
            "17                93                    7.9        88.0   \n",
            "18                92                    9.3        92.0   \n",
            "19                92                    9.0        91.0   \n",
            "20                90                    8.7        89.0   \n",
            "21                92                    8.7        92.0   \n",
            "22                92                    8.7        93.0   \n",
            "23                92                    8.6        92.0   \n",
            "24                92                    8.2         NaN   \n",
            "25                92                    8.1        85.0   \n",
            "26                92                    7.9        88.0   \n",
            "27                92                    7.5        90.0   \n",
            "28                92                    7.5        92.0   \n",
            "29                91                    8.8        92.0   \n",
            "30                91                    8.8        90.0   \n",
            "31                91                    8.8         NaN   \n",
            "\n",
            "                                     How Long To Beat  Price_Float  \n",
            "0   Main Story: 12½ hours; Main + Extra: 27 hours;...       349.00  \n",
            "1   Main Story: 50½ hours; Main + Extra: 98½ hours...       349.00  \n",
            "2   Main Story: 59 hours; Main + Extra: 117 hours;...       399.00  \n",
            "3   Main Story: 30 hours; Main + Extra: 36 hours; ...          NaN  \n",
            "4   Main Story: 8½ hours; Main + Extra: 13½ hours;...          NaN  \n",
            "5                     Solo: 11½ hours; Co-op: 8 hours        63.99  \n",
            "6   Main Story: 18 hours; Main + Extra: 25 hours; ...         9.95  \n",
            "7   Main Story: 13 hours; Main + Extra: 15 hours; ...       239.00  \n",
            "8   Main Story: 33½ hours; Main + Extra: 109 hours...       299.00  \n",
            "9   Main Story: 3½ hours; Main + Extra: 8½ hours; ...       203.95  \n",
            "10  Main Story: 4½ hours; Main + Extra: 6 hours; C...        74.95  \n",
            "11  Main Story: 19 hours; Main + Extra: 30 hours; ...        59.99  \n",
            "12  Main Story: 51½ hours; Main + Extra: 103½ hour...       179.99  \n",
            "13  Main Story: 12 hours; Main + Extra: 15½ hours;...       168.00  \n",
            "14  Main Story: 24 hours; Main + Extra: 42 hours; ...       349.00  \n",
            "15  Main Story: 23 hours; Main + Extra: 48½ hours;...        92.46  \n",
            "16  Main Story: 7 hours; Main + Extra: 11 hours; C...        79.00  \n",
            "17  Main Story: 6 hours; Main + Extra: 7½ hours; C...        94.90  \n",
            "18  Main Story: 15 hours; Main + Extra: 28½ hours;...       129.95  \n",
            "19  Main Story: 10 hours; Main + Extra: 13½ hours;...       349.00  \n",
            "20  Main Story: 9 hours; Main + Extra: 12½ hours; ...       398.00  \n",
            "21  Main Story: 8½ hours; Main + Extra: 14½ hours;...        59.99  \n",
            "22        Main Story: 3 hours; Completionist: 3 hours        19.95  \n",
            "23  Main Story: 6 hours; Main + Extra: 22½ hours; ...       349.00  \n",
            "24  Main Story: 7½ hours; Main + Extra: 14 hours; ...        41.99  \n",
            "25  Main Story: 9 hours; Main + Extra: 16 hours; C...       124.99  \n",
            "26  Main Story: 26½ hours; Main + Extra: 75½ hours...       101.95  \n",
            "27                                    Solo: 34½ hours       133.90  \n",
            "28  Main Story: 17½ hours; Main + Extra: 33 hours;...       191.00  \n",
            "29  Main Story: 57½ hours; Main + Extra: 89½ hours...       199.50  \n",
            "30  Main Story: 13 hours; Main + Extra: 14 hours; ...       249.00  \n",
            "31                                                NaN          NaN  \n",
            "\n",
            "Tipo de dados da coluna 'MSRP': float64\n"
          ]
        },
        {
          "output_type": "stream",
          "name": "stderr",
          "text": [
            "/tmp/ipython-input-29-3188110376.py:6: SettingWithCopyWarning: \n",
            "A value is trying to be set on a copy of a slice from a DataFrame.\n",
            "Try using .loc[row_indexer,col_indexer] = value instead\n",
            "\n",
            "See the caveats in the documentation: https://pandas.pydata.org/pandas-docs/stable/user_guide/indexing.html#returning-a-view-versus-a-copy\n",
            "  df['MSRP'] = pd.to_numeric(\n"
          ]
        }
      ]
    },
    {
      "cell_type": "code",
      "source": [
        "#Discretizando os precos\n",
        "\n",
        "df['prices'] = pd.cut(df['MSRP'], 10)\n",
        "df['prices'].value_counts()"
      ],
      "metadata": {
        "id": "Rw9u-8XPiPiV"
      },
      "execution_count": null,
      "outputs": []
    },
    {
      "cell_type": "code",
      "source": [
        "#Discretizando o Metacritic Score\n",
        "\n",
        "df['ranking'] = pd.cut(df['Metacritic Score'], 10)\n",
        "df['ranking'].value_counts()"
      ],
      "metadata": {
        "colab": {
          "base_uri": "https://localhost:8080/",
          "height": 429
        },
        "id": "QvsAvR_jZ3xc",
        "outputId": "3eb2e104-66da-41d3-f346-5338556b8832"
      },
      "execution_count": null,
      "outputs": [
        {
          "output_type": "execute_result",
          "data": {
            "text/plain": [
              "ranking\n",
              "(91.4, 92.1]      10\n",
              "(92.8, 93.5]       6\n",
              "(93.5, 94.2]       5\n",
              "(90.7, 91.4]       3\n",
              "(94.9, 95.6]       3\n",
              "(96.3, 97.0]       2\n",
              "(95.6, 96.3]       2\n",
              "(89.993, 90.7]     1\n",
              "(92.1, 92.8]       0\n",
              "(94.2, 94.9]       0\n",
              "Name: count, dtype: int64"
            ],
            "text/html": [
              "<div>\n",
              "<style scoped>\n",
              "    .dataframe tbody tr th:only-of-type {\n",
              "        vertical-align: middle;\n",
              "    }\n",
              "\n",
              "    .dataframe tbody tr th {\n",
              "        vertical-align: top;\n",
              "    }\n",
              "\n",
              "    .dataframe thead th {\n",
              "        text-align: right;\n",
              "    }\n",
              "</style>\n",
              "<table border=\"1\" class=\"dataframe\">\n",
              "  <thead>\n",
              "    <tr style=\"text-align: right;\">\n",
              "      <th></th>\n",
              "      <th>count</th>\n",
              "    </tr>\n",
              "    <tr>\n",
              "      <th>ranking</th>\n",
              "      <th></th>\n",
              "    </tr>\n",
              "  </thead>\n",
              "  <tbody>\n",
              "    <tr>\n",
              "      <th>(91.4, 92.1]</th>\n",
              "      <td>10</td>\n",
              "    </tr>\n",
              "    <tr>\n",
              "      <th>(92.8, 93.5]</th>\n",
              "      <td>6</td>\n",
              "    </tr>\n",
              "    <tr>\n",
              "      <th>(93.5, 94.2]</th>\n",
              "      <td>5</td>\n",
              "    </tr>\n",
              "    <tr>\n",
              "      <th>(90.7, 91.4]</th>\n",
              "      <td>3</td>\n",
              "    </tr>\n",
              "    <tr>\n",
              "      <th>(94.9, 95.6]</th>\n",
              "      <td>3</td>\n",
              "    </tr>\n",
              "    <tr>\n",
              "      <th>(96.3, 97.0]</th>\n",
              "      <td>2</td>\n",
              "    </tr>\n",
              "    <tr>\n",
              "      <th>(95.6, 96.3]</th>\n",
              "      <td>2</td>\n",
              "    </tr>\n",
              "    <tr>\n",
              "      <th>(89.993, 90.7]</th>\n",
              "      <td>1</td>\n",
              "    </tr>\n",
              "    <tr>\n",
              "      <th>(92.1, 92.8]</th>\n",
              "      <td>0</td>\n",
              "    </tr>\n",
              "    <tr>\n",
              "      <th>(94.2, 94.9]</th>\n",
              "      <td>0</td>\n",
              "    </tr>\n",
              "  </tbody>\n",
              "</table>\n",
              "</div><br><label><b>dtype:</b> int64</label>"
            ]
          },
          "metadata": {},
          "execution_count": 40
        }
      ]
    },
    {
      "cell_type": "markdown",
      "source": [
        "# Limpeza de Dados e Visualizacao dos dados\n"
      ],
      "metadata": {
        "id": "gsgFY4Zdjqs_"
      }
    },
    {
      "cell_type": "code",
      "source": [
        "df['MSRP'].plot.box()"
      ],
      "metadata": {
        "colab": {
          "base_uri": "https://localhost:8080/",
          "height": 147
        },
        "id": "4fwttB4IjuFd",
        "outputId": "61635a20-609b-46c4-a3f9-5d76a92fd670"
      },
      "execution_count": null,
      "outputs": [
        {
          "output_type": "error",
          "ename": "NameError",
          "evalue": "name 'df' is not defined",
          "traceback": [
            "\u001b[0;31m---------------------------------------------------------------------------\u001b[0m",
            "\u001b[0;31mNameError\u001b[0m                                 Traceback (most recent call last)",
            "\u001b[0;32m/tmp/ipython-input-13-478918019.py\u001b[0m in \u001b[0;36m<cell line: 0>\u001b[0;34m()\u001b[0m\n\u001b[0;32m----> 1\u001b[0;31m \u001b[0mdf\u001b[0m\u001b[0;34m[\u001b[0m\u001b[0;34m'MSRP'\u001b[0m\u001b[0;34m]\u001b[0m\u001b[0;34m.\u001b[0m\u001b[0mplot\u001b[0m\u001b[0;34m.\u001b[0m\u001b[0mbox\u001b[0m\u001b[0;34m(\u001b[0m\u001b[0;34m)\u001b[0m\u001b[0;34m\u001b[0m\u001b[0;34m\u001b[0m\u001b[0m\n\u001b[0m",
            "\u001b[0;31mNameError\u001b[0m: name 'df' is not defined"
          ]
        }
      ]
    },
    {
      "cell_type": "code",
      "source": [
        "df['MSRP'].hist()"
      ],
      "metadata": {
        "colab": {
          "base_uri": "https://localhost:8080/",
          "height": 147
        },
        "id": "y7ZDmvYykQJy",
        "outputId": "d7dffbc1-d6c3-4490-b55b-5c461f0cafba"
      },
      "execution_count": null,
      "outputs": [
        {
          "output_type": "error",
          "ename": "NameError",
          "evalue": "name 'df' is not defined",
          "traceback": [
            "\u001b[0;31m---------------------------------------------------------------------------\u001b[0m",
            "\u001b[0;31mNameError\u001b[0m                                 Traceback (most recent call last)",
            "\u001b[0;32m/tmp/ipython-input-14-3284960506.py\u001b[0m in \u001b[0;36m<cell line: 0>\u001b[0;34m()\u001b[0m\n\u001b[0;32m----> 1\u001b[0;31m \u001b[0mdf\u001b[0m\u001b[0;34m[\u001b[0m\u001b[0;34m'MSRP'\u001b[0m\u001b[0;34m]\u001b[0m\u001b[0;34m.\u001b[0m\u001b[0mhist\u001b[0m\u001b[0;34m(\u001b[0m\u001b[0;34m)\u001b[0m\u001b[0;34m\u001b[0m\u001b[0;34m\u001b[0m\u001b[0m\n\u001b[0m",
            "\u001b[0;31mNameError\u001b[0m: name 'df' is not defined"
          ]
        }
      ]
    },
    {
      "cell_type": "code",
      "source": [
        "df['MSRP_log'] = log10(df['MSRP'])\n",
        "df['MSRP_log'].hist()"
      ],
      "metadata": {
        "colab": {
          "base_uri": "https://localhost:8080/",
          "height": 447
        },
        "id": "NoGByadrkZqj",
        "outputId": "67063b72-0bf9-49b1-92fc-188a03f7cd41"
      },
      "execution_count": null,
      "outputs": [
        {
          "output_type": "execute_result",
          "data": {
            "text/plain": [
              "<Axes: >"
            ]
          },
          "metadata": {},
          "execution_count": 43
        },
        {
          "output_type": "display_data",
          "data": {
            "text/plain": [
              "<Figure size 640x480 with 1 Axes>"
            ],
            "image/png": "[encoded data removed]"
          },
          "metadata": {}
        }
      ]
    },
    {
      "cell_type": "code",
      "source": [
        "df.plot.scatter(x='Metacritic Score',y='MSRP')"
      ],
      "metadata": {
        "colab": {
          "base_uri": "https://localhost:8080/",
          "height": 147
        },
        "id": "KEZM8toIlI-F",
        "outputId": "a86f1d71-d6b5-4bfb-e012-1a8123553d0e"
      },
      "execution_count": null,
      "outputs": [
        {
          "output_type": "error",
          "ename": "NameError",
          "evalue": "name 'df' is not defined",
          "traceback": [
            "\u001b[0;31m---------------------------------------------------------------------------\u001b[0m",
            "\u001b[0;31mNameError\u001b[0m                                 Traceback (most recent call last)",
            "\u001b[0;32m/tmp/ipython-input-12-2021412007.py\u001b[0m in \u001b[0;36m<cell line: 0>\u001b[0;34m()\u001b[0m\n\u001b[0;32m----> 1\u001b[0;31m \u001b[0mdf\u001b[0m\u001b[0;34m.\u001b[0m\u001b[0mplot\u001b[0m\u001b[0;34m.\u001b[0m\u001b[0mscatter\u001b[0m\u001b[0;34m(\u001b[0m\u001b[0mx\u001b[0m\u001b[0;34m=\u001b[0m\u001b[0;34m'Metacritic Score'\u001b[0m\u001b[0;34m,\u001b[0m\u001b[0my\u001b[0m\u001b[0;34m=\u001b[0m\u001b[0;34m'MSRP'\u001b[0m\u001b[0;34m)\u001b[0m\u001b[0;34m\u001b[0m\u001b[0;34m\u001b[0m\u001b[0m\n\u001b[0m",
            "\u001b[0;31mNameError\u001b[0m: name 'df' is not defined"
          ]
        }
      ]
    },
    {
      "cell_type": "code",
      "source": [
        "df['comp'] = df['MSRP'] / df['Metacritic Score']"
      ],
      "metadata": {
        "id": "LO0vyKBCluG2"
      },
      "execution_count": null,
      "outputs": []
    },
    {
      "cell_type": "code",
      "source": [
        "mad = abs(df['comp'] - df['comp'].median()).median()*(1/0.6745)\n",
        "(abs(df['comp']-df['comp'].median())/mad).hist()\n"
      ],
      "metadata": {
        "colab": {
          "base_uri": "https://localhost:8080/",
          "height": 447
        },
        "id": "WtexjauAl_fR",
        "outputId": "bd3affde-4859-4746-fbff-82868929baa7"
      },
      "execution_count": null,
      "outputs": [
        {
          "output_type": "execute_result",
          "data": {
            "text/plain": [
              "<Axes: >"
            ]
          },
          "metadata": {},
          "execution_count": 47
        },
        {
          "output_type": "display_data",
          "data": {
            "text/plain": [
              "<Figure size 640x480 with 1 Axes>"
            ],
            "image/png": "[encoded data removed]"
          },
          "metadata": {}
        }
      ]
    },
    {
      "cell_type": "code",
      "source": [
        "\n",
        "df2 = df[abs(df['comp']-df['comp'].median())/mad < 3.5]\n",
        "print(len(df2))"
      ],
      "metadata": {
        "colab": {
          "base_uri": "https://localhost:8080/"
        },
        "id": "wT5x5YDPmYKj",
        "outputId": "78882e48-6585-4959-f3df-c85fc7425ede"
      },
      "execution_count": null,
      "outputs": [
        {
          "output_type": "stream",
          "name": "stdout",
          "text": [
            "29\n"
          ]
        }
      ]
    },
    {
      "cell_type": "markdown",
      "source": [
        "# Teste de Regressão"
      ],
      "metadata": {
        "id": "AVOxt-zAnSAv"
      }
    },
    {
      "cell_type": "code",
      "source": [
        "def convert_size_to_mb(size_str):\n",
        "    if pd.isna(size_str):\n",
        "        return None\n",
        "    size_str = str(size_str).lower().strip()\n",
        "    try:\n",
        "        # Extrai o número da string\n",
        "        num = float(re.findall(r\"[\\d\\.]+\", size_str)[0])\n",
        "        if 'gb' in size_str:\n",
        "            return num * 1024  # Converte GB para MB\n",
        "        elif 'mb' in size_str:\n",
        "            return num\n",
        "    except (ValueError, IndexError):\n",
        "        return None\n",
        "\n",
        "df['Size_MB'] = df['Download size'].apply(convert_size_to_mb)\n",
        "\n",
        "# Remove linhas onde não temos o tamanho ou a nota do Metacritic\n",
        "df_clean = df.dropna(subset=['Size_MB', 'Metacritic Score']).copy()\n",
        "\n",
        "# --- Etapa 3: Preparar e Dividir os Dados para a Regressão ---\n",
        "\n",
        "# X é a variável que usamos para prever (variável independente)\n",
        "# Usamos colchetes duplos para manter como um DataFrame\n",
        "X = df_clean[['Size_MB']]\n",
        "\n",
        "# y é a variável que queremos prever (variável dependente)\n",
        "y = df_clean['Metacritic Score']\n",
        "\n",
        "# Dividimos os dados: 80% para treinar o modelo, 20% para testar\n",
        "X_train, X_test, y_train, y_test = train_test_split(X, y, test_size=0.2, random_state=42)\n",
        "\n",
        "# --- Etapa 4: Treinar o Modelo de Regressão Linear ---\n",
        "model = LinearRegression()\n",
        "model.fit(X_train, y_train)\n",
        "\n",
        "# --- Etapa 5: Fazer Previsões e Avaliar o Modelo ---\n",
        "y_pred = model.predict(X_test)\n",
        "\n",
        "print(\"--- Avaliação do Modelo ---\")\n",
        "print('R² (R-quadrado):', metrics.r2_score(y_test, y_pred))\n",
        "print('Erro Médio Absoluto (MAE):', metrics.mean_absolute_error(y_test, y_pred))\n",
        "\n",
        "print(\"\\n--- Coeficientes do Modelo ---\")\n",
        "print(f\"Intercepto (a): {model.intercept_:.2f}\")\n",
        "print(f\"Coeficiente de 'Size_MB' (b): {model.coef_[0]:.4f}\")\n",
        "\n",
        "# --- Etapa 6: Visualizar os Resultados ---\n",
        "plt.figure(figsize=(10, 6))\n",
        "sns.scatterplot(x=X_test['Size_MB'], y=y_test, label='Dados Reais', s=100)\n",
        "plt.plot(X_test, y_pred, color='red', linewidth=2, label='Linha de Regressão (Previsão)')\n",
        "plt.title('Regressão: Tamanho do Jogo vs. Nota Metacritic', fontsize=16)\n",
        "plt.xlabel('Tamanho do Jogo (MB)', fontsize=12)\n",
        "plt.ylabel('Nota Metacritic', fontsize=12)\n",
        "plt.legend()\n",
        "plt.grid(True)\n",
        "plt.show()\n",
        "\n",
        "#Sem Relação Visível: Os pontos no gráfico estão totalmente espalhados, o que mostra que não há uma ligação clara entre o tamanho de um jogo e sua nota.\n",
        "\n",
        "#Péssimo Previsor: A estatística (R² negativo) confirma que o tamanho do jogo é um péssimo previsor para a nota. Um R² negativo significa que o modelo se ajusta pior aos dados do que uma simples linha horizontal que representasse a média de todas as notas. Em resumo, o modelo não tem nenhum poder de previsão.\n",
        "\n",
        "#Linha de Tendência Ineficaz: A linha vermelha no gráfico, que deveria mostrar uma tendência, é quase horizontal e não representa bem os dados, reforçando que não há um padrão."
      ],
      "metadata": {
        "colab": {
          "base_uri": "https://localhost:8080/",
          "height": 692
        },
        "id": "2Wk_BGm22rBB",
        "outputId": "2d6f84d1-0547-422b-f855-4ce61949e042"
      },
      "execution_count": null,
      "outputs": [
        {
          "output_type": "stream",
          "name": "stdout",
          "text": [
            "--- Avaliação do Modelo ---\n",
            "R² (R-quadrado): -0.029238280901133118\n",
            "Erro Médio Absoluto (MAE): 1.0202315443015786\n",
            "\n",
            "--- Coeficientes do Modelo ---\n",
            "Intercepto (a): 93.54\n",
            "Coeficiente de 'Size_MB' (b): -0.0000\n"
          ]
        },
        {
          "output_type": "display_data",
          "data": {
            "text/plain": [
              "<Figure size 1000x600 with 1 Axes>"
            ],
            "image/png": "[encoded data removed]"
          },
          "metadata": {}
        }
      ]
    }
  ]
}